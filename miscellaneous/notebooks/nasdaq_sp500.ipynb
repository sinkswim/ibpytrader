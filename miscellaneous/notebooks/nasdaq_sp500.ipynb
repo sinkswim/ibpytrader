{
 "cells": [
  {
   "cell_type": "code",
   "execution_count": null,
   "id": "445f88e9-f538-495b-b8a2-da775a3dd9fa",
   "metadata": {},
   "outputs": [],
   "source": [
    "import quandl\n",
    "quandl.ApiConfig.api_key = \"\"\n",
    "data = quandl.get('MULTPL-sp-500-ratios/')\n",
    "data.plot(title=\"S&P 500 dividend yield (12 month dividend per share)/price\")"
   ]
  }
 ],
 "metadata": {
  "kernelspec": {
   "display_name": "Python 3 (ipykernel)",
   "language": "python",
   "name": "python3"
  },
  "language_info": {
   "codemirror_mode": {
    "name": "ipython",
    "version": 3
   },
   "file_extension": ".py",
   "mimetype": "text/x-python",
   "name": "python",
   "nbconvert_exporter": "python",
   "pygments_lexer": "ipython3",
   "version": "3.10.15"
  }
 },
 "nbformat": 4,
 "nbformat_minor": 5
}
