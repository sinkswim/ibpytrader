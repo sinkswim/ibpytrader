{
 "cells": [
  {
   "cell_type": "markdown",
   "id": "29b7b49d-4307-4ad3-8899-940e78567643",
   "metadata": {},
   "source": [
    "- Simple Monte-Carlo Method: \n",
    "Suppose we want to know how many times we should expect to throw three eight-sided dice for the total of the dice throws to be at least T. We know the expected value exists. The dice throws are randomly distributed and independent of each other. So simple Monte Carlo is applicable."
   ]
  },
  {
   "cell_type": "code",
   "execution_count": null,
   "id": "a85480c1-5956-472d-b237-10bd1b0b08e9",
   "metadata": {},
   "outputs": [],
   "source": [
    "import random\n",
    "\n",
    "def roll_three_d8():\n",
    "    # Roll three 8-sided dice and return their sum\n",
    "    roll1 = random.randint(1, 8)\n",
    "    roll2 = random.randint(1, 8)\n",
    "    roll3 = random.randint(1, 8)\n",
    "    total = roll1 + roll2 + roll3\n",
    "    return total\n",
    "    \n",
    "# Target value #random.randint(1*3, 8*3)\n",
    "T = 24\n",
    "print(f\"\\nTarget set to: {T}\")\n",
    "\n",
    "# Initialize variables\n",
    "s = 0\n",
    "n = 1000 # number of times to run the simulation\n",
    "attempts = 0\n",
    "total = 0\n",
    "\n",
    "for i in range(n):\n",
    "    while total < T:\n",
    "        attempts += 1\n",
    "        total = roll_three_d8()\n",
    "    # print(f\"\\nTarget {T} reached or exceeded in {attempts} attempts!\")\n",
    "    s = s + attempts\n",
    "    total = 0\n",
    "    attempts = 0\n",
    "\n",
    "# finally, compute the montecarlo result\n",
    "m = s / n;\n",
    "print(f\"\\nResult: {m}\")"
   ]
  },
  {
   "cell_type": "code",
   "execution_count": null,
   "id": "f98e7132-1ca7-4119-a5ca-47adcc23d5df",
   "metadata": {},
   "outputs": [],
   "source": []
  }
 ],
 "metadata": {
  "kernelspec": {
   "display_name": "Python 3 (ipykernel)",
   "language": "python",
   "name": "python3"
  },
  "language_info": {
   "codemirror_mode": {
    "name": "ipython",
    "version": 3
   },
   "file_extension": ".py",
   "mimetype": "text/x-python",
   "name": "python",
   "nbconvert_exporter": "python",
   "pygments_lexer": "ipython3",
   "version": "3.12.4"
  }
 },
 "nbformat": 4,
 "nbformat_minor": 5
}
